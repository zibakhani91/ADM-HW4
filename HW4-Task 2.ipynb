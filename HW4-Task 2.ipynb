{
 "cells": [
  {
   "cell_type": "markdown",
   "metadata": {},
   "source": [
    "## 2) Find the duplicates!\n"
   ]
  },
  {
   "cell_type": "code",
   "execution_count": 1,
   "metadata": {},
   "outputs": [],
   "source": [
    "# Import libraries\n",
    "from collections import defaultdict\n",
    "import collections\n",
    "import json"
   ]
  },
  {
   "cell_type": "markdown",
   "metadata": {},
   "source": [
    "## Step 1: Define hash function\n",
    "\n",
    "Hash function takes as an input a string.\n",
    "**Depending if order of characters is important or not, we will be calling hash function without or with the sorted string.**<br/>\n",
    "Each character is converted into byte representation and then bytes are converted into integer value.<br/>\n",
    "If same character is appearing several times (n times), integer value of one character is multiplied by number of appereances (n) (i.e. 'A' has value 65 and if it appears 3 times it would be represented with 195)<br/>\n",
    "Values for each character are concatenated. Result is long string containing numbers (i.e. 'AAAB' is represented with 19566).<br/>\n",
    "In order to get a hash value, modulo operation with prime number 100000007 is applied on a password number representation.\n",
    "This way we have a range of possible values close to the number of passwords in input file.\n"
   ]
  },
  {
   "cell_type": "code",
   "execution_count": 6,
   "metadata": {},
   "outputs": [],
   "source": [
    "def hash_fun(ins):\n",
    "    val='' # initialize a list for concatenation of the int values for each character\n",
    "    i=1\n",
    "    prev=ins[0] # initialize to the first character of the password\n",
    "    count=1 # count how many times element appears in the password\n",
    "    while i <= len(ins):\n",
    "        ne=ins[i:i+1] # read the next character of the password\n",
    "        if prev==ne: # if next is equal to previous add 1 to the counter\n",
    "            count+=1\n",
    "        else: # when new character is different from the previous convert the previous into it's number representation\n",
    "            b=int.from_bytes((bytes(prev, 'utf-8')), byteorder='big')*count \n",
    "            count=1 # reset counter\n",
    "            prev=ne # reset previous character\n",
    "            val+=str(b) # concatenate value of the character to the list\n",
    "        i+=1\n",
    "    return(int(val)%100000007) # retrun hash value"
   ]
  },
  {
   "cell_type": "markdown",
   "metadata": {},
   "source": [
    "**Definition A**: Two passwords are considered to be the same if they have the same characters, order is not important. Example: \"AABA\" = \"AAAB\""
   ]
  },
  {
   "cell_type": "markdown",
   "metadata": {},
   "source": [
    "## Step 2: Create hash map"
   ]
  },
  {
   "cell_type": "markdown",
   "metadata": {},
   "source": [
    "We used \"Defaultdict\" structure in Python to store the hash map. <br/>\n",
    "For each hash value we are storing the list of sorted passwords which belong to that value using our hash function. <br/>\n",
    "At this point we chose to store sorted passwords to be able to easily use the \"Counter\" function from \"Collections\". <br/> \n",
    "Alternatively, we could have stored passwords in original form and do the sorting afterwards. In that scenario we would be able also to produce a full file with all duplicated passwords (duplicated in the sense of the **Definiton A**)."
   ]
  },
  {
   "cell_type": "markdown",
   "metadata": {},
   "source": [
    "hash_map = defaultdict(list)"
   ]
  },
  {
   "cell_type": "code",
   "execution_count": 4,
   "metadata": {},
   "outputs": [],
   "source": [
    "with open('D:\\\\Various documents\\\\Masters\\\\La Sapienza\\\\ADM\\\\Homework\\\\Homework 4\\\\passwords2.txt','r') as f:\n",
    "    for line in f:\n",
    "            i=hash_fun(''.join(sorted(line.strip('\\n')))) # Calling hash function for sorted passwords\n",
    "            hash_map[str(i)].append(''.join(sorted(line.strip('\\n')))) # Storing sorted password in the hash value position\n",
    "        "
   ]
  },
  {
   "cell_type": "code",
   "execution_count": 10,
   "metadata": {},
   "outputs": [
    {
     "data": {
      "text/plain": [
       "63214532"
      ]
     },
     "execution_count": 10,
     "metadata": {},
     "output_type": "execute_result"
    }
   ],
   "source": [
    "# Our hash function created 632144532 unique values for passwords from input file\n",
    "len(hash_map)"
   ]
  },
  {
   "cell_type": "markdown",
   "metadata": {},
   "source": [
    "Save hash map into the file."
   ]
  },
  {
   "cell_type": "code",
   "execution_count": null,
   "metadata": {},
   "outputs": [],
   "source": [
    "with open('pwd_hash.txt', 'w') as file:\n",
    "     file.write(json.dumps(hash_map)) # use`json.loads` to do the reverse"
   ]
  },
  {
   "cell_type": "markdown",
   "metadata": {},
   "source": [
    "## Step 3: Count duplicates and false positives"
   ]
  },
  {
   "cell_type": "markdown",
   "metadata": {},
   "source": [
    "Per Definition A, **duplicates** are passowrds which have same characters, no matter the order of the characters. They should have the same hash value.<br/>\n",
    "**False positives** are passowrds which have the same hash value although they are not having the same characters. False positives appear due to the fact that our hash function is not \"1-1\" transformation. <br/>"
   ]
  },
  {
   "cell_type": "markdown",
   "metadata": {},
   "source": [
    "Function **find_true** is used to detect which password from the list of ones with the same hash value will be considered the true one.\n",
    "We decided to take password with the highest frequency (i.e. the most duplicates) as the true one. All the rest are false positive."
   ]
  },
  {
   "cell_type": "code",
   "execution_count": 10,
   "metadata": {},
   "outputs": [],
   "source": [
    "def find_true(cnt): # function takes a Collections.Counter object - {value:frequency}\n",
    "    true_val=0\n",
    "    true_el=''\n",
    "    for key,val in cnt.items(): # iterate through the counter and take one with the highest frequency\n",
    "            if(val>true_val):\n",
    "                true_val=val\n",
    "                true_el=key\n",
    "    return(true_el)"
   ]
  },
  {
   "cell_type": "code",
   "execution_count": 50,
   "metadata": {},
   "outputs": [
    {
     "name": "stdout",
     "output_type": "stream",
     "text": [
      "10000000 passwords are duplicated and they appear in total  20000000  times.\n",
      "36785468 unique passwords could be considered as false positive and they appera in total  37268765  times.\n"
     ]
    }
   ],
   "source": [
    "# Passwords are the same if they have same characters no matter the order\n",
    "s=0 # number of times that same passwords appear\n",
    "u=0 # number of unique passwords\n",
    "fpu=0 # number of unique false positive\n",
    "fp=0 # number of times that false positive happened\n",
    "for key in hash_map.keys():\n",
    "    cnt=collections.Counter(hash_map[key]) # for each item in the default dictionary calculate how many times it appears\n",
    "    l=len(cnt.keys()) # number of unique passwords\n",
    "    # Ideally, only 1 unique password should be allocated to one hash value\n",
    "    # All the rest on the same hash value should be considered as false positive\n",
    "    fpu += (l-1)\n",
    "    e=find_true(cnt) # finding password which will be considered as true one for the given hash value\n",
    "    for key, val in cnt.items(): # iterate through the counts and count duplicates and false positives\n",
    "        if(val>=2): # count duplicates\n",
    "            s+=val\n",
    "            u+=1\n",
    "        if(key!=e): # count false positives\n",
    "            fp+=val\n",
    "print(u, 'passwords are duplicated and they appear in total ', s ,' times.')\n",
    "print(fpu, 'unique passwords could be considered as false positive and they appear in total ', fp, ' times.')"
   ]
  },
  {
   "cell_type": "markdown",
   "metadata": {},
   "source": [
    "**Definition B**: Two passwords are considered to be the same if they have the same characters, in the same order. Example: \"AABA\" = \"AABA\""
   ]
  },
  {
   "cell_type": "markdown",
   "metadata": {},
   "source": [
    "## Step 2: Create hash map\n"
   ]
  },
  {
   "cell_type": "markdown",
   "metadata": {},
   "source": [
    "We used \"Defaultdict\" structure in Python to store the hash map. <br/>\n",
    "For each hash value we are storing the list of passwords which belong to that value using our hash function. <br/>"
   ]
  },
  {
   "cell_type": "code",
   "execution_count": 3,
   "metadata": {},
   "outputs": [],
   "source": [
    "hash_mapB = defaultdict(list)"
   ]
  },
  {
   "cell_type": "code",
   "execution_count": 7,
   "metadata": {},
   "outputs": [],
   "source": [
    "with open('D:\\\\Various documents\\\\Masters\\\\La Sapienza\\\\ADM\\\\Homework\\\\Homework 4\\\\passwords2.txt','r') as f:\n",
    "    for line in f:\n",
    "            i=hash_fun(line.strip('\\n')) # Calling hash function for passwords\n",
    "            hash_mapB[str(i)].append(line.strip('\\n')) # Storing password in the hash value position\n",
    "        "
   ]
  },
  {
   "cell_type": "code",
   "execution_count": 8,
   "metadata": {},
   "outputs": [
    {
     "data": {
      "text/plain": [
       "65009019"
      ]
     },
     "execution_count": 8,
     "metadata": {},
     "output_type": "execute_result"
    }
   ],
   "source": [
    "# Our hash function created 65009019 unique values for passwords from input file\n",
    "len(hash_mapB)"
   ]
  },
  {
   "cell_type": "markdown",
   "metadata": {},
   "source": [
    "Save hash map into the file."
   ]
  },
  {
   "cell_type": "code",
   "execution_count": null,
   "metadata": {},
   "outputs": [],
   "source": [
    "with open('pwd_hash.txt', 'w') as file:\n",
    "     file.write(json.dumps(hash_mapB)) # use`json.loads` to do the reverse"
   ]
  },
  {
   "cell_type": "markdown",
   "metadata": {},
   "source": [
    "## Step 3: Count duplicates and false positives"
   ]
  },
  {
   "cell_type": "markdown",
   "metadata": {},
   "source": [
    "Per Definition B, duplicates are only passowrds which are completly the same strings. They should have the same hash value.\n",
    "False positives are passowrds which have the same hash value although they are not excatly the same. False positives appear due to the fact that our hash function is not \"1-1\" transformation. "
   ]
  },
  {
   "cell_type": "code",
   "execution_count": 11,
   "metadata": {},
   "outputs": [
    {
     "name": "stdout",
     "output_type": "stream",
     "text": [
      "5000000 passwords are duplicated and they appear in total  10000000  times.\n",
      "39990981 unique passwords could be considered as false positive and they appear in total  40113613  times.\n"
     ]
    }
   ],
   "source": [
    "# Passwords are the same if they have same characters no matter the order\n",
    "s=0 # number of times that same passwords appear\n",
    "u=0 # number of unique passwords\n",
    "fpu=0 # number of unique false positive\n",
    "fp=0 # number of times that false positive happened\n",
    "for key in hash_mapB.keys():\n",
    "    cnt=collections.Counter(hash_mapB[key]) # for each item in the default dictionary calculate how many times it appears\n",
    "    l=len(cnt.keys()) # number of unique passwords\n",
    "    # Ideally, only 1 unique password should be allocated to one hash value\n",
    "    # All the rest on the same hash value should be considered as false positive\n",
    "    fpu += (l-1)\n",
    "    e=find_true(cnt) # finding password which will be considered as true one for the given hash value\n",
    "    for key, val in cnt.items(): # iterate through the counts and count duplicates and false positives\n",
    "        if(val>=2): # count duplicates\n",
    "            s+=val\n",
    "            u+=1\n",
    "        if(key!=e): # count false positives\n",
    "            fp+=val\n",
    "print(u, 'passwords are duplicated and they appear in total ', s ,' times.')\n",
    "print(fpu, 'unique passwords could be considered as false positive and they appear in total ', fp, ' times.')"
   ]
  }
 ],
 "metadata": {
  "kernelspec": {
   "display_name": "Python 3",
   "language": "python",
   "name": "python3"
  },
  "language_info": {
   "codemirror_mode": {
    "name": "ipython",
    "version": 3
   },
   "file_extension": ".py",
   "mimetype": "text/x-python",
   "name": "python",
   "nbconvert_exporter": "python",
   "pygments_lexer": "ipython3",
   "version": "3.6.5"
  }
 },
 "nbformat": 4,
 "nbformat_minor": 2
}
